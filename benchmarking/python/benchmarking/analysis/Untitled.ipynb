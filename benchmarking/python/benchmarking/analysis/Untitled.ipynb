{
 "cells": [
  {
   "cell_type": "code",
   "execution_count": 1,
   "id": "c91506bf-d34b-4907-9c52-29df97c117a1",
   "metadata": {
    "tags": []
   },
   "outputs": [],
   "source": [
    "import json\n",
    "import os\n",
    "import pandas as pd\n",
    "import re\n",
    "import matplotlib.pyplot as plt\n",
    "from pathlib import Path\n",
    "from typing import NamedTuple"
   ]
  },
  {
   "cell_type": "code",
   "execution_count": 2,
   "id": "961d4cde-33f4-4811-94cf-38049e7f43be",
   "metadata": {
    "tags": []
   },
   "outputs": [],
   "source": [
    "class LogEntry(NamedTuple):\n",
    "    mibps: float\n",
    "    tps: int"
   ]
  },
  {
   "cell_type": "code",
   "execution_count": 3,
   "id": "fe1bdedb-565a-4bc1-8126-469ee9cc9216",
   "metadata": {
    "tags": []
   },
   "outputs": [],
   "source": [
    "#TODO: Check units\n",
    "def parse_logs(path):\n",
    "    with path.open() as f:\n",
    "        for line in f:\n",
    "            match = re.search(r\"\\[MON\\] S000 (?P<mbps>\\d+\\.\\d*) MB/s \\((?P<tps>\\d+) tuples/sec\\)\", line)\n",
    "            if match:\n",
    "                yield LogEntry(mbps=float(match[\"mbps\"]), tps=int(match[\"tps\"]))\n",
    "            \n",
    "    \n",
    "    "
   ]
  },
  {
   "cell_type": "code",
   "execution_count": 4,
   "id": "52ed1a0a-08ca-46e1-9d60-48f7a99b5142",
   "metadata": {
    "tags": []
   },
   "outputs": [],
   "source": [
    "def read_experiment(path: Path) -> pd.DataFrame:\n",
    "    with (path/\"metadata.json\").open() as f:\n",
    "        metadata = json.load(f)\n",
    "    entries = list(parse_logs(path / \"gw_consumer.log\"))[:-1]\n",
    "    df = pd.DataFrame.from_records(entries, columns=[\"mibps\", \"tps\"])\n",
    "    df[\"tps\"] = df[\"tps\"].astype(float)\n",
    "    df[\"batch_size\"] = int(metadata[\"batch_size\"])\n",
    "    df[\"interleaved\"] = bool(metadata[\"interleaved\"])\n",
    "    return df"
   ]
  },
  {
   "cell_type": "code",
   "execution_count": 5,
   "id": "e605fbd9-d462-4a9c-af89-8950dee17a79",
   "metadata": {
    "tags": []
   },
   "outputs": [],
   "source": [
    "def read_logs(path: Path):\n",
    "    dfs = []\n",
    "    for path in path.iterdir():\n",
    "        assert path.is_dir()\n",
    "        dfs.append(read_experiment(path))\n",
    "    return pd.concat(dfs)\n",
    "        "
   ]
  },
  {
   "cell_type": "code",
   "execution_count": 9,
   "id": "438a6087-6120-476e-a01a-0229d5bc2356",
   "metadata": {
    "tags": []
   },
   "outputs": [],
   "source": [
    "data = read_logs(Path(\"/home/hendrik/projects/ghostwriter/ghostwriter/benchmarking/data/ysb/2023-03-10/114213\"))"
   ]
  },
  {
   "cell_type": "code",
   "execution_count": 12,
   "id": "385c7065-5c52-4d3a-96b7-e28012f4a320",
   "metadata": {
    "tags": []
   },
   "outputs": [
    {
     "data": {
      "text/html": [
       "<div>\n",
       "<style scoped>\n",
       "    .dataframe tbody tr th:only-of-type {\n",
       "        vertical-align: middle;\n",
       "    }\n",
       "\n",
       "    .dataframe tbody tr th {\n",
       "        vertical-align: top;\n",
       "    }\n",
       "\n",
       "    .dataframe thead th {\n",
       "        text-align: right;\n",
       "    }\n",
       "</style>\n",
       "<table border=\"1\" class=\"dataframe\">\n",
       "  <thead>\n",
       "    <tr style=\"text-align: right;\">\n",
       "      <th></th>\n",
       "      <th>mbps</th>\n",
       "      <th>tps</th>\n",
       "      <th>batch_size</th>\n",
       "      <th>interleaved</th>\n",
       "    </tr>\n",
       "  </thead>\n",
       "  <tbody>\n",
       "  </tbody>\n",
       "</table>\n",
       "</div>"
      ],
      "text/plain": [
       "Empty DataFrame\n",
       "Columns: [mbps, tps, batch_size, interleaved]\n",
       "Index: []"
      ]
     },
     "execution_count": 12,
     "metadata": {},
     "output_type": "execute_result"
    }
   ],
   "source": [
    "data"
   ]
  },
  {
   "cell_type": "code",
   "execution_count": 48,
   "id": "76dfca63-e67e-4105-af70-5a60b39aeb44",
   "metadata": {},
   "outputs": [],
   "source": [
    "import numpy as np\n",
    "import pandas as pd\n",
    "import matplotlib.pyplot as plt\n",
    "import seaborn as sns\n",
    "sns.set_theme(style=\"darkgrid\")"
   ]
  },
  {
   "cell_type": "code",
   "execution_count": null,
   "id": "bc720afd-e0fd-42f1-af66-875749f398a8",
   "metadata": {},
   "outputs": [],
   "source": []
  },
  {
   "cell_type": "code",
   "execution_count": 37,
   "id": "6f3074f9-cc4d-4d12-a365-433696be6d5d",
   "metadata": {
    "tags": []
   },
   "outputs": [],
   "source": [
    "isolated = read_logs(Path(\"/home/hendrik/projects/ghostwriter/ghostwriter/benchmarking/data/ysb/2023-02-17/085252\"))"
   ]
  },
  {
   "cell_type": "code",
   "execution_count": 38,
   "id": "35e12538-d71f-4bab-a698-630cdc8cc083",
   "metadata": {
    "tags": []
   },
   "outputs": [
    {
     "data": {
      "text/plain": [
       "<bound method Series.unique of 0     2321408.0\n",
       "1     2287616.0\n",
       "2     2313216.0\n",
       "3     2304000.0\n",
       "4     2287616.0\n",
       "        ...    \n",
       "2    75872256.0\n",
       "3    76228608.0\n",
       "4    76066816.0\n",
       "5    76424192.0\n",
       "6    76100608.0\n",
       "Name: tps, Length: 681, dtype: float64>"
      ]
     },
     "execution_count": 38,
     "metadata": {},
     "output_type": "execute_result"
    }
   ],
   "source": [
    "isolated[\"tps\"].unique"
   ]
  },
  {
   "cell_type": "code",
   "execution_count": 39,
   "id": "7503a74f-3986-4f8e-b981-058544895256",
   "metadata": {
    "tags": []
   },
   "outputs": [
    {
     "data": {
      "text/plain": [
       "batch_size  interleaved\n",
       "2048        False           280.078741\n",
       "4096        False           493.304116\n",
       "8192        False           900.260878\n",
       "16384       False          1574.677451\n",
       "32768       False          2559.047065\n",
       "65536       False          4117.412389\n",
       "131072      False          5965.129167\n",
       "262144      False          7462.225400\n",
       "524288      False          8625.464625\n",
       "1048576     False          9299.678571\n",
       "Name: mbps, dtype: float64"
      ]
     },
     "execution_count": 39,
     "metadata": {},
     "output_type": "execute_result"
    }
   ],
   "source": [
    "isolated.groupby([\"batch_size\", \"interleaved\"])[\"mbps\"].mean()"
   ]
  },
  {
   "cell_type": "code",
   "execution_count": 70,
   "id": "0c4e28c4-e8c2-4e29-ab05-0f1ae838c1c9",
   "metadata": {
    "tags": []
   },
   "outputs": [],
   "source": [
    "producer_kd = pd.DataFrame.from_records(\n",
    "    [\n",
    "        (2048, 87.44),\n",
    "        (4096, 169.22),\n",
    "        (8192, 337.34),\n",
    "        (16384, 714.84),\n",
    "        (32768, 1079.06),\n",
    "        (65536, 2130),\n",
    "        (131072, 3183.75),\n",
    "        (262144, 4272.5),\n",
    "        (524288, 5840),\n",
    "    ]\n",
    ")"
   ]
  },
  {
   "cell_type": "code",
   "execution_count": 69,
   "id": "2eeeab4b-8195-4893-bc16-79e06c1d1d22",
   "metadata": {
    "tags": []
   },
   "outputs": [],
   "source": [
    "consumer_kd = pd.DataFrame.from_records(\n",
    "    [\n",
    "        (2048, 19.6689), \n",
    "        (4096, 40.3122), \n",
    "        (8192, 78.3601), \n",
    "        (16384, 144.4085), \n",
    "        (32768, 247.0356), \n",
    "        (65536, 431.9281),\n",
    "        (131072, 681.5703),\n",
    "        (262144, 920.8103),\n",
    "        (524288, 927.9881),\n",
    "    ],\n",
    "    columns=[\"batch_size\", \"mbps\"]\n",
    ")"
   ]
  },
  {
   "cell_type": "code",
   "execution_count": 51,
   "id": "8a671903-2004-421e-9837-9f341d195bde",
   "metadata": {
    "tags": []
   },
   "outputs": [
    {
     "data": {
      "text/plain": [
       "mbps           float64\n",
       "tps            float64\n",
       "batch_size       int64\n",
       "interleaved       bool\n",
       "dtype: object"
      ]
     },
     "execution_count": 51,
     "metadata": {},
     "output_type": "execute_result"
    }
   ],
   "source": [
    "isolated.dtypes"
   ]
  },
  {
   "cell_type": "code",
   "execution_count": 41,
   "id": "936f1d23-80bb-4ff7-bb4a-62509afaa616",
   "metadata": {
    "tags": []
   },
   "outputs": [
    {
     "data": {
      "text/html": [
       "<div>\n",
       "<style scoped>\n",
       "    .dataframe tbody tr th:only-of-type {\n",
       "        vertical-align: middle;\n",
       "    }\n",
       "\n",
       "    .dataframe tbody tr th {\n",
       "        vertical-align: top;\n",
       "    }\n",
       "\n",
       "    .dataframe thead th {\n",
       "        text-align: right;\n",
       "    }\n",
       "</style>\n",
       "<table border=\"1\" class=\"dataframe\">\n",
       "  <thead>\n",
       "    <tr style=\"text-align: right;\">\n",
       "      <th></th>\n",
       "      <th>batch_size</th>\n",
       "      <th>mbps</th>\n",
       "    </tr>\n",
       "  </thead>\n",
       "  <tbody>\n",
       "    <tr>\n",
       "      <th>0</th>\n",
       "      <td>2048</td>\n",
       "      <td>19.6689</td>\n",
       "    </tr>\n",
       "    <tr>\n",
       "      <th>1</th>\n",
       "      <td>4096</td>\n",
       "      <td>40.3122</td>\n",
       "    </tr>\n",
       "    <tr>\n",
       "      <th>2</th>\n",
       "      <td>8192</td>\n",
       "      <td>78.3601</td>\n",
       "    </tr>\n",
       "    <tr>\n",
       "      <th>3</th>\n",
       "      <td>16384</td>\n",
       "      <td>144.4085</td>\n",
       "    </tr>\n",
       "    <tr>\n",
       "      <th>4</th>\n",
       "      <td>32768</td>\n",
       "      <td>247.0356</td>\n",
       "    </tr>\n",
       "    <tr>\n",
       "      <th>5</th>\n",
       "      <td>65536</td>\n",
       "      <td>431.9281</td>\n",
       "    </tr>\n",
       "    <tr>\n",
       "      <th>6</th>\n",
       "      <td>131072</td>\n",
       "      <td>681.5703</td>\n",
       "    </tr>\n",
       "    <tr>\n",
       "      <th>7</th>\n",
       "      <td>262144</td>\n",
       "      <td>920.8103</td>\n",
       "    </tr>\n",
       "    <tr>\n",
       "      <th>8</th>\n",
       "      <td>524288</td>\n",
       "      <td>927.9881</td>\n",
       "    </tr>\n",
       "  </tbody>\n",
       "</table>\n",
       "</div>"
      ],
      "text/plain": [
       "   batch_size      mbps\n",
       "0        2048   19.6689\n",
       "1        4096   40.3122\n",
       "2        8192   78.3601\n",
       "3       16384  144.4085\n",
       "4       32768  247.0356\n",
       "5       65536  431.9281\n",
       "6      131072  681.5703\n",
       "7      262144  920.8103\n",
       "8      524288  927.9881"
      ]
     },
     "execution_count": 41,
     "metadata": {},
     "output_type": "execute_result"
    }
   ],
   "source": [
    "kafka_direct"
   ]
  },
  {
   "cell_type": "code",
   "execution_count": 52,
   "id": "cecd0b2c-7d3a-4605-b121-2698c7d804de",
   "metadata": {
    "tags": []
   },
   "outputs": [
    {
     "data": {
      "text/plain": [
       "batch_size      int64\n",
       "mbps          float64\n",
       "dtype: object"
      ]
     },
     "execution_count": 52,
     "metadata": {},
     "output_type": "execute_result"
    }
   ],
   "source": [
    "isolated[[\"batch_size\", \"mbps\"]]."
   ]
  },
  {
   "cell_type": "code",
   "execution_count": 65,
   "id": "a12c11bc-4f37-4b58-8a6a-b55d5612398e",
   "metadata": {
    "tags": []
   },
   "outputs": [],
   "source": [
    "df_gw = isolated[[\"batch_size\", \"mbps\"]]\n",
    "df_gw = df_gw.assign(broker='Ghostwriter')\n",
    "df_kd = kafka_direct\n",
    "df_kd = df_kd.assign(broker=\"KafkaDirect\")\n",
    "df = pd.concat([df_gw, df_kd])"
   ]
  },
  {
   "cell_type": "code",
   "execution_count": 58,
   "id": "02ee04d8-4599-4101-908b-b9b83ab6ae92",
   "metadata": {
    "tags": []
   },
   "outputs": [],
   "source": [
    "import seaborn as sns"
   ]
  },
  {
   "cell_type": "code",
   "execution_count": 67,
   "id": "1b0e9600-2675-493d-bea7-dca2bbeaed39",
   "metadata": {
    "tags": []
   },
   "outputs": [
    {
     "data": {
      "image/png": "[encoded data removed]",
      "text/plain": [
       "<Figure size 640x480 with 1 Axes>"
      ]
     },
     "metadata": {},
     "output_type": "display_data"
    }
   ],
   "source": [
    "plot = sns.lineplot(df, x=\"batch_size\", y=\"mbps\", hue=\"broker\")"
   ]
  },
  {
   "cell_type": "code",
   "execution_count": 68,
   "id": "e77fe7d8-88de-4713-bb73-76064a1dfb6a",
   "metadata": {
    "tags": []
   },
   "outputs": [],
   "source": [
    "plot.figure.savefig(\"ysb_isolated_consumers.png\")\n"
   ]
  },
  {
   "cell_type": "code",
   "execution_count": 59,
   "id": "b3ba4322-8509-4478-bc68-b0edb01e3cf9",
   "metadata": {
    "tags": []
   },
   "outputs": [],
   "source": [
    "sns.set_style(\"whitegrid\")"
   ]
  },
  {
   "cell_type": "code",
   "execution_count": 71,
   "id": "813c3d73-efa1-4a4f-8a05-ce387823e13d",
   "metadata": {
    "tags": []
   },
   "outputs": [],
   "source": [
    "interleaved = read_logs(Path(\"/home/hendrik/projects/ghostwriter/ghostwriter/benchmarking/data/ysb/2023-02-17/095724\"))"
   ]
  },
  {
   "cell_type": "code",
   "execution_count": 72,
   "id": "1ce1f134-a9a5-400d-b425-807f2698fe8c",
   "metadata": {
    "tags": []
   },
   "outputs": [
    {
     "data": {
      "text/html": [
       "<div>\n",
       "<style scoped>\n",
       "    .dataframe tbody tr th:only-of-type {\n",
       "        vertical-align: middle;\n",
       "    }\n",
       "\n",
       "    .dataframe tbody tr th {\n",
       "        vertical-align: top;\n",
       "    }\n",
       "\n",
       "    .dataframe thead th {\n",
       "        text-align: right;\n",
       "    }\n",
       "</style>\n",
       "<table border=\"1\" class=\"dataframe\">\n",
       "  <thead>\n",
       "    <tr style=\"text-align: right;\">\n",
       "      <th></th>\n",
       "      <th>mbps</th>\n",
       "      <th>tps</th>\n",
       "      <th>batch_size</th>\n",
       "      <th>interleaved</th>\n",
       "    </tr>\n",
       "  </thead>\n",
       "  <tbody>\n",
       "    <tr>\n",
       "      <th>0</th>\n",
       "      <td>378.247</td>\n",
       "      <td>3101696.0</td>\n",
       "      <td>16384</td>\n",
       "      <td>True</td>\n",
       "    </tr>\n",
       "    <tr>\n",
       "      <th>1</th>\n",
       "      <td>386.875</td>\n",
       "      <td>3169280.0</td>\n",
       "      <td>16384</td>\n",
       "      <td>True</td>\n",
       "    </tr>\n",
       "    <tr>\n",
       "      <th>2</th>\n",
       "      <td>413.875</td>\n",
       "      <td>3390464.0</td>\n",
       "      <td>16384</td>\n",
       "      <td>True</td>\n",
       "    </tr>\n",
       "    <tr>\n",
       "      <th>3</th>\n",
       "      <td>703.250</td>\n",
       "      <td>5761024.0</td>\n",
       "      <td>16384</td>\n",
       "      <td>True</td>\n",
       "    </tr>\n",
       "    <tr>\n",
       "      <th>4</th>\n",
       "      <td>703.750</td>\n",
       "      <td>5765120.0</td>\n",
       "      <td>16384</td>\n",
       "      <td>True</td>\n",
       "    </tr>\n",
       "    <tr>\n",
       "      <th>...</th>\n",
       "      <td>...</td>\n",
       "      <td>...</td>\n",
       "      <td>...</td>\n",
       "      <td>...</td>\n",
       "    </tr>\n",
       "    <tr>\n",
       "      <th>361</th>\n",
       "      <td>0.125</td>\n",
       "      <td>1024.0</td>\n",
       "      <td>1024</td>\n",
       "      <td>True</td>\n",
       "    </tr>\n",
       "    <tr>\n",
       "      <th>362</th>\n",
       "      <td>0.000</td>\n",
       "      <td>0.0</td>\n",
       "      <td>1024</td>\n",
       "      <td>True</td>\n",
       "    </tr>\n",
       "    <tr>\n",
       "      <th>363</th>\n",
       "      <td>0.000</td>\n",
       "      <td>0.0</td>\n",
       "      <td>1024</td>\n",
       "      <td>True</td>\n",
       "    </tr>\n",
       "    <tr>\n",
       "      <th>364</th>\n",
       "      <td>0.000</td>\n",
       "      <td>0.0</td>\n",
       "      <td>1024</td>\n",
       "      <td>True</td>\n",
       "    </tr>\n",
       "    <tr>\n",
       "      <th>365</th>\n",
       "      <td>0.000</td>\n",
       "      <td>0.0</td>\n",
       "      <td>1024</td>\n",
       "      <td>True</td>\n",
       "    </tr>\n",
       "  </tbody>\n",
       "</table>\n",
       "<p>1615 rows × 4 columns</p>\n",
       "</div>"
      ],
      "text/plain": [
       "        mbps        tps  batch_size  interleaved\n",
       "0    378.247  3101696.0       16384         True\n",
       "1    386.875  3169280.0       16384         True\n",
       "2    413.875  3390464.0       16384         True\n",
       "3    703.250  5761024.0       16384         True\n",
       "4    703.750  5765120.0       16384         True\n",
       "..       ...        ...         ...          ...\n",
       "361    0.125     1024.0        1024         True\n",
       "362    0.000        0.0        1024         True\n",
       "363    0.000        0.0        1024         True\n",
       "364    0.000        0.0        1024         True\n",
       "365    0.000        0.0        1024         True\n",
       "\n",
       "[1615 rows x 4 columns]"
      ]
     },
     "execution_count": 72,
     "metadata": {},
     "output_type": "execute_result"
    }
   ],
   "source": [
    "interleaved"
   ]
  },
  {
   "cell_type": "code",
   "execution_count": null,
   "id": "e2085fb4-6469-4284-acf6-cec96e0be93b",
   "metadata": {},
   "outputs": [],
   "source": []
  },
  {
   "cell_type": "code",
   "execution_count": null,
   "id": "54340e0b-029c-4b60-b00a-c35382db54c9",
   "metadata": {},
   "outputs": [],
   "source": [
    "df_gw = [[\"batch_size\", \"mbps\"]]\n",
    "df_gw = df_gw.assign(broker='Ghostwriter')\n",
    "df_kd = kafka_direct\n",
    "df_kd = df_kd.assign(broker=\"KafkaDirect\")\n",
    "df = pd.concat([df_gw, df_kd])"
   ]
  },
  {
   "cell_type": "code",
   "execution_count": null,
   "id": "0424d7b9-8c4d-49b7-9f98-22b11ee8d191",
   "metadata": {},
   "outputs": [],
   "source": []
  },
  {
   "cell_type": "markdown",
   "id": "5f7931e2-e26c-4dc5-a5cb-275b18a28f2c",
   "metadata": {},
   "source": [
    "## Isolated YSB Throughput"
   ]
  },
  {
   "cell_type": "code",
   "execution_count": 70,
   "id": "8c13aa7f-c7e9-40c1-aa61-20af881ab58d",
   "metadata": {},
   "outputs": [
    {
     "data": {
      "text/plain": [
       "<seaborn.axisgrid.FacetGrid at 0x7f8915525400>"
      ]
     },
     "execution_count": 70,
     "metadata": {},
     "output_type": "execute_result"
    },
    {
     "data": {
      "image/png": "[encoded data removed]",
      "text/plain": [
       "<Figure size 360x360 with 1 Axes>"
      ]
     },
     "metadata": {},
     "output_type": "display_data"
    }
   ],
   "source": [
    "sns.relplot(\n",
    "    data=isolated[isolated[\"batch_size\"] <= 32000], kind=\"line\",\n",
    "    x=\"batch_size\", y=\"mbps\", errorbar=\"sd\"\n",
    ")"
   ]
  },
  {
   "cell_type": "code",
   "execution_count": 85,
   "id": "1ec1d913-065a-41d0-9427-776871039597",
   "metadata": {},
   "outputs": [
    {
     "data": {
      "text/plain": [
       "<matplotlib.lines.Line2D at 0x7f8914edb9a0>"
      ]
     },
     "execution_count": 85,
     "metadata": {},
     "output_type": "execute_result"
    },
    {
     "data": {
      "image/png": "[encoded data removed]",
      "text/plain": [
       "<Figure size 432x288 with 1 Axes>"
      ]
     },
     "metadata": {},
     "output_type": "display_data"
    }
   ],
   "source": [
    "graph = sns.lineplot(\n",
    "    data=isolated[isolated[\"batch_size\"] >= 32000], #kind=\"line\",\n",
    "    x=\"batch_size\", y=\"mbps\", errorbar=\"sd\"\n",
    ")\n",
    "graph.axhline(y = 10400, color = 'r', linestyle = '-')"
   ]
  },
  {
   "cell_type": "markdown",
   "id": "e6a374dc-084e-4c8b-a13d-253996923e1a",
   "metadata": {},
   "source": [
    "## Interleaved YSB Throughput"
   ]
  },
  {
   "cell_type": "code",
   "execution_count": 75,
   "id": "70d48c09-6883-48ff-8b02-7343664cf554",
   "metadata": {
    "tags": []
   },
   "outputs": [
    {
     "data": {
      "text/plain": [
       "<seaborn.axisgrid.FacetGrid at 0x7f15051db130>"
      ]
     },
     "execution_count": 75,
     "metadata": {},
     "output_type": "execute_result"
    },
    {
     "data": {
      "image/png": "[encoded data removed]",
      "text/plain": [
       "<Figure size 500x500 with 1 Axes>"
      ]
     },
     "metadata": {},
     "output_type": "display_data"
    }
   ],
   "source": [
    "sns.relplot(\n",
    "    data=interleaved[interleaved[\"batch_size\"] <= 32000], kind=\"line\",\n",
    "    x=\"batch_size\", y=\"mbps\"\n",
    ")"
   ]
  },
  {
   "cell_type": "code",
   "execution_count": null,
   "id": "96eae6d3-02d9-4bd5-92b4-235228981d23",
   "metadata": {},
   "outputs": [],
   "source": []
  },
  {
   "cell_type": "code",
   "execution_count": 88,
   "id": "d6d6f5ed-1cf3-498c-b912-0d068706ceb7",
   "metadata": {
    "tags": []
   },
   "outputs": [],
   "source": [
    "df = interleaved.groupby([\"batch_size\"])[[\"mbps\"]].mean()"
   ]
  },
  {
   "cell_type": "code",
   "execution_count": 89,
   "id": "df5e1b10-1e5e-47da-bfbb-652adef07eac",
   "metadata": {
    "tags": []
   },
   "outputs": [
    {
     "data": {
      "text/html": [
       "<div>\n",
       "<style scoped>\n",
       "    .dataframe tbody tr th:only-of-type {\n",
       "        vertical-align: middle;\n",
       "    }\n",
       "\n",
       "    .dataframe tbody tr th {\n",
       "        vertical-align: top;\n",
       "    }\n",
       "\n",
       "    .dataframe thead th {\n",
       "        text-align: right;\n",
       "    }\n",
       "</style>\n",
       "<table border=\"1\" class=\"dataframe\">\n",
       "  <thead>\n",
       "    <tr style=\"text-align: right;\">\n",
       "      <th></th>\n",
       "      <th>mbps</th>\n",
       "    </tr>\n",
       "    <tr>\n",
       "      <th>batch_size</th>\n",
       "      <th></th>\n",
       "    </tr>\n",
       "  </thead>\n",
       "  <tbody>\n",
       "    <tr>\n",
       "      <th>1024</th>\n",
       "      <td>61.032568</td>\n",
       "    </tr>\n",
       "    <tr>\n",
       "      <th>2048</th>\n",
       "      <td>119.371244</td>\n",
       "    </tr>\n",
       "    <tr>\n",
       "      <th>4096</th>\n",
       "      <td>221.621622</td>\n",
       "    </tr>\n",
       "    <tr>\n",
       "      <th>8192</th>\n",
       "      <td>403.889441</td>\n",
       "    </tr>\n",
       "    <tr>\n",
       "      <th>16384</th>\n",
       "      <td>693.190863</td>\n",
       "    </tr>\n",
       "    <tr>\n",
       "      <th>32768</th>\n",
       "      <td>1200.303529</td>\n",
       "    </tr>\n",
       "    <tr>\n",
       "      <th>65536</th>\n",
       "      <td>2023.660150</td>\n",
       "    </tr>\n",
       "    <tr>\n",
       "      <th>131072</th>\n",
       "      <td>3120.642385</td>\n",
       "    </tr>\n",
       "    <tr>\n",
       "      <th>262144</th>\n",
       "      <td>4228.824421</td>\n",
       "    </tr>\n",
       "    <tr>\n",
       "      <th>524288</th>\n",
       "      <td>4923.794187</td>\n",
       "    </tr>\n",
       "    <tr>\n",
       "      <th>1048576</th>\n",
       "      <td>4910.983000</td>\n",
       "    </tr>\n",
       "  </tbody>\n",
       "</table>\n",
       "</div>"
      ],
      "text/plain": [
       "                   mbps\n",
       "batch_size             \n",
       "1024          61.032568\n",
       "2048         119.371244\n",
       "4096         221.621622\n",
       "8192         403.889441\n",
       "16384        693.190863\n",
       "32768       1200.303529\n",
       "65536       2023.660150\n",
       "131072      3120.642385\n",
       "262144      4228.824421\n",
       "524288      4923.794187\n",
       "1048576     4910.983000"
      ]
     },
     "execution_count": 89,
     "metadata": {},
     "output_type": "execute_result"
    }
   ],
   "source": [
    "df"
   ]
  },
  {
   "cell_type": "code",
   "execution_count": 83,
   "id": "f62ddfa6-abe9-4a6f-afe0-f3ac95d84dfe",
   "metadata": {
    "tags": []
   },
   "outputs": [
    {
     "data": {
      "text/plain": [
       "5000.0"
      ]
     },
     "execution_count": 83,
     "metadata": {},
     "output_type": "execute_result"
    }
   ],
   "source": [
    "5242880000 / 1024 / 1024"
   ]
  },
  {
   "cell_type": "code",
   "execution_count": 96,
   "id": "c962f7d7-4794-473a-af07-b1bb4391f0c8",
   "metadata": {
    "tags": []
   },
   "outputs": [
    {
     "ename": "KeyError",
     "evalue": "'batch_size'",
     "output_type": "error",
     "traceback": [
      "\u001b[0;31m---------------------------------------------------------------------------\u001b[0m",
      "\u001b[0;31mKeyError\u001b[0m                                  Traceback (most recent call last)",
      "File \u001b[0;32m~/.cache/pypoetry/virtualenvs/benchmarking-CkSc6heK-py3.10/lib/python3.10/site-packages/pandas/core/indexes/base.py:3802\u001b[0m, in \u001b[0;36mIndex.get_loc\u001b[0;34m(self, key, method, tolerance)\u001b[0m\n\u001b[1;32m   3801\u001b[0m \u001b[38;5;28;01mtry\u001b[39;00m:\n\u001b[0;32m-> 3802\u001b[0m     \u001b[38;5;28;01mreturn\u001b[39;00m \u001b[38;5;28;43mself\u001b[39;49m\u001b[38;5;241;43m.\u001b[39;49m\u001b[43m_engine\u001b[49m\u001b[38;5;241;43m.\u001b[39;49m\u001b[43mget_loc\u001b[49m\u001b[43m(\u001b[49m\u001b[43mcasted_key\u001b[49m\u001b[43m)\u001b[49m\n\u001b[1;32m   3803\u001b[0m \u001b[38;5;28;01mexcept\u001b[39;00m \u001b[38;5;167;01mKeyError\u001b[39;00m \u001b[38;5;28;01mas\u001b[39;00m err:\n",
      "File \u001b[0;32m~/.cache/pypoetry/virtualenvs/benchmarking-CkSc6heK-py3.10/lib/python3.10/site-packages/pandas/_libs/index.pyx:138\u001b[0m, in \u001b[0;36mpandas._libs.index.IndexEngine.get_loc\u001b[0;34m()\u001b[0m\n",
      "File \u001b[0;32m~/.cache/pypoetry/virtualenvs/benchmarking-CkSc6heK-py3.10/lib/python3.10/site-packages/pandas/_libs/index.pyx:165\u001b[0m, in \u001b[0;36mpandas._libs.index.IndexEngine.get_loc\u001b[0;34m()\u001b[0m\n",
      "File \u001b[0;32mpandas/_libs/hashtable_class_helper.pxi:5745\u001b[0m, in \u001b[0;36mpandas._libs.hashtable.PyObjectHashTable.get_item\u001b[0;34m()\u001b[0m\n",
      "File \u001b[0;32mpandas/_libs/hashtable_class_helper.pxi:5753\u001b[0m, in \u001b[0;36mpandas._libs.hashtable.PyObjectHashTable.get_item\u001b[0;34m()\u001b[0m\n",
      "\u001b[0;31mKeyError\u001b[0m: 'batch_size'",
      "\nThe above exception was the direct cause of the following exception:\n",
      "\u001b[0;31mKeyError\u001b[0m                                  Traceback (most recent call last)",
      "Cell \u001b[0;32mIn[96], line 1\u001b[0m\n\u001b[0;32m----> 1\u001b[0m \u001b[43mdf\u001b[49m\u001b[43m[\u001b[49m\u001b[38;5;124;43m\"\u001b[39;49m\u001b[38;5;124;43mbatch_size\u001b[39;49m\u001b[38;5;124;43m\"\u001b[39;49m\u001b[43m]\u001b[49m\n",
      "File \u001b[0;32m~/.cache/pypoetry/virtualenvs/benchmarking-CkSc6heK-py3.10/lib/python3.10/site-packages/pandas/core/frame.py:3807\u001b[0m, in \u001b[0;36mDataFrame.__getitem__\u001b[0;34m(self, key)\u001b[0m\n\u001b[1;32m   3805\u001b[0m \u001b[38;5;28;01mif\u001b[39;00m \u001b[38;5;28mself\u001b[39m\u001b[38;5;241m.\u001b[39mcolumns\u001b[38;5;241m.\u001b[39mnlevels \u001b[38;5;241m>\u001b[39m \u001b[38;5;241m1\u001b[39m:\n\u001b[1;32m   3806\u001b[0m     \u001b[38;5;28;01mreturn\u001b[39;00m \u001b[38;5;28mself\u001b[39m\u001b[38;5;241m.\u001b[39m_getitem_multilevel(key)\n\u001b[0;32m-> 3807\u001b[0m indexer \u001b[38;5;241m=\u001b[39m \u001b[38;5;28;43mself\u001b[39;49m\u001b[38;5;241;43m.\u001b[39;49m\u001b[43mcolumns\u001b[49m\u001b[38;5;241;43m.\u001b[39;49m\u001b[43mget_loc\u001b[49m\u001b[43m(\u001b[49m\u001b[43mkey\u001b[49m\u001b[43m)\u001b[49m\n\u001b[1;32m   3808\u001b[0m \u001b[38;5;28;01mif\u001b[39;00m is_integer(indexer):\n\u001b[1;32m   3809\u001b[0m     indexer \u001b[38;5;241m=\u001b[39m [indexer]\n",
      "File \u001b[0;32m~/.cache/pypoetry/virtualenvs/benchmarking-CkSc6heK-py3.10/lib/python3.10/site-packages/pandas/core/indexes/base.py:3804\u001b[0m, in \u001b[0;36mIndex.get_loc\u001b[0;34m(self, key, method, tolerance)\u001b[0m\n\u001b[1;32m   3802\u001b[0m     \u001b[38;5;28;01mreturn\u001b[39;00m \u001b[38;5;28mself\u001b[39m\u001b[38;5;241m.\u001b[39m_engine\u001b[38;5;241m.\u001b[39mget_loc(casted_key)\n\u001b[1;32m   3803\u001b[0m \u001b[38;5;28;01mexcept\u001b[39;00m \u001b[38;5;167;01mKeyError\u001b[39;00m \u001b[38;5;28;01mas\u001b[39;00m err:\n\u001b[0;32m-> 3804\u001b[0m     \u001b[38;5;28;01mraise\u001b[39;00m \u001b[38;5;167;01mKeyError\u001b[39;00m(key) \u001b[38;5;28;01mfrom\u001b[39;00m \u001b[38;5;21;01merr\u001b[39;00m\n\u001b[1;32m   3805\u001b[0m \u001b[38;5;28;01mexcept\u001b[39;00m \u001b[38;5;167;01mTypeError\u001b[39;00m:\n\u001b[1;32m   3806\u001b[0m     \u001b[38;5;66;03m# If we have a listlike key, _check_indexing_error will raise\u001b[39;00m\n\u001b[1;32m   3807\u001b[0m     \u001b[38;5;66;03m#  InvalidIndexError. Otherwise we fall through and re-raise\u001b[39;00m\n\u001b[1;32m   3808\u001b[0m     \u001b[38;5;66;03m#  the TypeError.\u001b[39;00m\n\u001b[1;32m   3809\u001b[0m     \u001b[38;5;28mself\u001b[39m\u001b[38;5;241m.\u001b[39m_check_indexing_error(key)\n",
      "\u001b[0;31mKeyError\u001b[0m: 'batch_size'"
     ]
    }
   ],
   "source": [
    "df[\"batch_size\"]"
   ]
  },
  {
   "cell_type": "code",
   "execution_count": 84,
   "id": "c9689463-b5f6-48e4-98f6-65b1b0f69751",
   "metadata": {
    "tags": []
   },
   "outputs": [],
   "source": [
    "df[1048576] = 5242880000 / 1024 / 1024\n",
    "df[524288] = 5158993920 / 1024 / 1024\n",
    "df[262144] = 4445962240/ 1024 / 1024\n",
    "df[131072] = 3313500160/ 1024 / 1024"
   ]
  },
  {
   "cell_type": "code",
   "execution_count": 87,
   "id": "d4cdd6a7-463b-4b04-9959-fd51d7a1b6f8",
   "metadata": {
    "tags": []
   },
   "outputs": [
    {
     "data": {
      "text/plain": [
       "<Axes: xlabel='batch_size'>"
      ]
     },
     "execution_count": 87,
     "metadata": {},
     "output_type": "execute_result"
    },
    {
     "data": {
      "image/png": "[encoded data removed]",
      "text/plain": [
       "<Figure size 640x480 with 1 Axes>"
      ]
     },
     "metadata": {},
     "output_type": "display_data"
    }
   ],
   "source": [
    "df.plot()"
   ]
  },
  {
   "cell_type": "code",
   "execution_count": 73,
   "id": "30859b25-12a1-4985-a24a-8ac1d51e6a3a",
   "metadata": {
    "tags": []
   },
   "outputs": [
    {
     "data": {
      "text/plain": [
       "<seaborn.axisgrid.FacetGrid at 0x7f1504db2980>"
      ]
     },
     "execution_count": 73,
     "metadata": {},
     "output_type": "execute_result"
    },
    {
     "data": {
      "image/png": "[encoded data removed]",
      "text/plain": [
       "<Figure size 500x500 with 1 Axes>"
      ]
     },
     "metadata": {},
     "output_type": "display_data"
    }
   ],
   "source": [
    "sns.relplot(\n",
    "    data=interleaved[interleaved[\"batch_size\"] >= 32000], kind=\"line\",\n",
    "    x=\"batch_size\", y=\"mbps\", errorbar=\"sd\"\n",
    ")"
   ]
  },
  {
   "cell_type": "code",
   "execution_count": null,
   "id": "7317caef-694c-41ac-a394-0a5b0abfc073",
   "metadata": {},
   "outputs": [],
   "source": []
  },
  {
   "cell_type": "markdown",
   "id": "e5308c91-8a71-452a-8b5b-923c51292cf9",
   "metadata": {},
   "source": [
    "--> need to identify sustainable throughput (producer produced faster than consumer)"
   ]
  }
 ],
 "metadata": {
  "kernelspec": {
   "display_name": "Python 3 (ipykernel)",
   "language": "python",
   "name": "python3"
  },
  "language_info": {
   "codemirror_mode": {
    "name": "ipython",
    "version": 3
   },
   "file_extension": ".py",
   "mimetype": "text/x-python",
   "name": "python",
   "nbconvert_exporter": "python",
   "pygments_lexer": "ipython3",
   "version": "3.10.6"
  }
 },
 "nbformat": 4,
 "nbformat_minor": 5
}
