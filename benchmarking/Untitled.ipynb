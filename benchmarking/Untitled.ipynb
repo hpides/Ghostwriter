{
 "cells": [
  {
   "cell_type": "code",
   "execution_count": null,
   "id": "b1ab2f1a-2650-4a23-bd8c-1631cccaf70c",
   "metadata": {},
   "outputs": [],
   "source": []
  }
 ],
 "metadata": {
  "kernelspec": {
   "display_name": "Python [conda env:ghostwriter]",
   "language": "python",
   "name": "conda-env-ghostwriter-py"
  },
  "language_info": {
   "codemirror_mode": {
    "name": "ipython",
    "version": 3
   },
   "file_extension": ".py",
   "mimetype": "text/x-python",
   "name": "python",
   "nbconvert_exporter": "python",
   "pygments_lexer": "ipython3",
   "version": "3.9.12"
  }
 },
 "nbformat": 4,
 "nbformat_minor": 5
}
