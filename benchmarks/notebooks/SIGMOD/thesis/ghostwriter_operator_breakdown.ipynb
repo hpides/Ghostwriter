{
 "cells": [
  {
   "cell_type": "code",
   "execution_count": 3,
   "metadata": {},
   "outputs": [],
   "source": [
    "import matplotlib.pyplot as plt\n",
    "import os\n",
    "import pandas as pd\n",
    "import re\n",
    "import seaborn as sns\n",
    "plt.style.use('seaborn-white')"
   ]
  },
  {
   "cell_type": "code",
   "execution_count": 4,
   "metadata": {},
   "outputs": [],
   "source": [
    "log_directory = '../../../data/raw/logs/'"
   ]
  },
  {
   "cell_type": "code",
   "execution_count": 5,
   "metadata": {},
   "outputs": [],
   "source": [
    "def get_log_files(dir_path, pattern):\n",
    "    result = []\n",
    "    for filename in os.listdir(dir_path):\n",
    "        res = re.search(pattern, filename)\n",
    "        if res:\n",
    "            data_size = res.group(1)\n",
    "            segment_count = res.group(2)\n",
    "            rate_limit = res.group(3)\n",
    "            if data_size:\n",
    "                result.append((data_size, segment_count, rate_limit, dir_path + \"/\" + filename))\n",
    "    return result"
   ]
  },
  {
   "cell_type": "code",
   "execution_count": 6,
   "metadata": {},
   "outputs": [],
   "source": [
    "def create_rembrandt_dataframe(log_files, skiprows=0):\n",
    "    joined_df = pd.DataFrame()\n",
    "    for data_size, segment_count, rate_limit, filename in log_files:\n",
    "        df  = pd.read_csv(filename, sep='\\t', skiprows=skiprows)\n",
    "        df.reset_index(inplace=True)\n",
    "        df[\"Message Size in Bytes\"] = int(data_size)\n",
    "        df[\"# of Segments\"] = int(segment_count)\n",
    "        df[\"Rate Limit in MB/s\"] = int(rate_limit) // (1000 * 1000)\n",
    "        joined_df = pd.concat([joined_df, df])\n",
    "    return joined_df"
   ]
  },
  {
   "cell_type": "code",
   "execution_count": 7,
   "metadata": {},
   "outputs": [],
   "source": [
    "def producer_dfs(directory):\n",
    "    result = {}\n",
    "    for variant in [\"exclusive\", \"exclusive_opt\", \"concurrent\", \"concurrent_opt/10\"]:\n",
    "        variant_dfs = {}\n",
    "        variant_dfs[\"tp\"] = create_rembrandt_dataframe(get_log_files(directory + variant, \"rembrandt_producer_(\\d+)_(\\d+)_(\\d+)_throughput.csv\"))\n",
    "        variant_dfs[\"event\"] = create_rembrandt_dataframe(get_log_files(directory + variant, \"rembrandt_producer_(\\d+)_(\\d+)_(\\d+)_event_latency_timeline.csv\"), skiprows=1)\n",
    "        variant_dfs[\"waiting\"] = create_rembrandt_dataframe(get_log_files(directory + variant, \"rembrandt_producer_(\\d+)_(\\d+)_(\\d+)_waiting_latency_timeline.csv\"), skiprows=1)\n",
    "        variant_dfs[\"staging\"] = create_rembrandt_dataframe(get_log_files(directory + variant, \"rembrandt_producer_(\\d+)_(\\d+)_(\\d+)_staging_latency_timeline.csv\"), skiprows=1)\n",
    "        variant_dfs[\"storing\"] = create_rembrandt_dataframe(get_log_files(directory + variant, \"rembrandt_producer_(\\d+)_(\\d+)_(\\d+)_storing_latency_timeline.csv\"), skiprows=1)\n",
    "        variant_dfs[\"committing\"] = create_rembrandt_dataframe(get_log_files(directory + variant, \"rembrandt_producer_(\\d+)_(\\d+)_(\\d+)_committing_latency_timeline.csv\"), skiprows=1)\n",
    "        result[variant] = variant_dfs\n",
    "    return result"
   ]
  },
  {
   "cell_type": "code",
   "execution_count": 8,
   "metadata": {},
   "outputs": [],
   "source": [
    "def plot_timeseries(dataframe, column):\n",
    "    fig_dims = (18, 12)\n",
    "    fig, ax = plt.subplots(figsize=fig_dims)\n",
    "    sns.set(font_scale=2)\n",
    "    df = dataframe.pivot(index='index', columns='Rate Limit in MB/s', values=column)\n",
    "    df.plot(ax=ax)\n",
    "#     sns.lineplot(x=\"index\", y=column, data=dataframe, hue=\"Rate Limit in MB/s\", ax=ax, legend=\"full\")"
   ]
  },
  {
   "cell_type": "markdown",
   "metadata": {},
   "source": [
    "# Establish sustainable throughput"
   ]
  },
  {
   "cell_type": "code",
   "execution_count": 9,
   "metadata": {},
   "outputs": [],
   "source": [
    "dataframes = producer_dfs(log_directory + \"20200727/breakdown/\")"
   ]
  },
  {
   "cell_type": "code",
   "execution_count": 32,
   "metadata": {},
   "outputs": [],
   "source": [
    "def filter_dfs(dataframes, measure):\n",
    "    df_list = [dataframes[\"exclusive\"][measure][dataframes[\"exclusive\"][measure][\"Rate Limit in MB/s\"] == 7400],\n",
    "               dataframes[\"exclusive_opt\"][measure][dataframes[\"exclusive_opt\"][measure][\"Rate Limit in MB/s\"] == 7900],\n",
    "               dataframes[\"concurrent\"][measure][dataframes[\"concurrent\"][measure][\"Rate Limit in MB/s\"] == 5300],\n",
    "               dataframes[\"concurrent_opt/10\"][measure][dataframes[\"concurrent_opt/10\"][measure][\"Rate Limit in MB/s\"] == 5600]]\n",
    "    df_list[0][\"Protocol\"] = \"Exclusive\"\n",
    "    df_list[1][\"Protocol\"] = \"Exclusive Opt.\"\n",
    "    df_list[2][\"Protocol\"] = \"Concurrent\"\n",
    "    df_list[3][\"Protocol\"] = \"Concurrent Opt. (10)\"\n",
    "    return pd.concat(df_list)"
   ]
  },
  {
   "cell_type": "code",
   "execution_count": null,
   "metadata": {},
   "outputs": [],
   "source": [
    "plot_timeseries(dataframes[\"concurrent_opt/10\"][\"event\"][dataframes[\"concurrent_opt/10\"][\"event\"][\"Rate Limit in MB/s\"] <= 5600], \"Latency in us\")"
   ]
  },
  {
   "cell_type": "code",
   "execution_count": 84,
   "metadata": {},
   "outputs": [
    {
     "name": "stderr",
     "output_type": "stream",
     "text": [
      "<ipython-input-32-7067a8f5f462>:6: SettingWithCopyWarning: \n",
      "A value is trying to be set on a copy of a slice from a DataFrame.\n",
      "Try using .loc[row_indexer,col_indexer] = value instead\n",
      "\n",
      "See the caveats in the documentation: https://pandas.pydata.org/pandas-docs/stable/user_guide/indexing.html#returning-a-view-versus-a-copy\n",
      "  df_list[0][\"Protocol\"] = \"Exclusive\"\n",
      "<ipython-input-32-7067a8f5f462>:7: SettingWithCopyWarning: \n",
      "A value is trying to be set on a copy of a slice from a DataFrame.\n",
      "Try using .loc[row_indexer,col_indexer] = value instead\n",
      "\n",
      "See the caveats in the documentation: https://pandas.pydata.org/pandas-docs/stable/user_guide/indexing.html#returning-a-view-versus-a-copy\n",
      "  df_list[1][\"Protocol\"] = \"Exclusive Opt.\"\n",
      "<ipython-input-32-7067a8f5f462>:8: SettingWithCopyWarning: \n",
      "A value is trying to be set on a copy of a slice from a DataFrame.\n",
      "Try using .loc[row_indexer,col_indexer] = value instead\n",
      "\n",
      "See the caveats in the documentation: https://pandas.pydata.org/pandas-docs/stable/user_guide/indexing.html#returning-a-view-versus-a-copy\n",
      "  df_list[2][\"Protocol\"] = \"Concurrent\"\n",
      "<ipython-input-32-7067a8f5f462>:9: SettingWithCopyWarning: \n",
      "A value is trying to be set on a copy of a slice from a DataFrame.\n",
      "Try using .loc[row_indexer,col_indexer] = value instead\n",
      "\n",
      "See the caveats in the documentation: https://pandas.pydata.org/pandas-docs/stable/user_guide/indexing.html#returning-a-view-versus-a-copy\n",
      "  df_list[3][\"Protocol\"] = \"Concurrent Opt. (10)\"\n"
     ]
    }
   ],
   "source": [
    "tp_df = filter_dfs(dataframes, \"tp\")"
   ]
  },
  {
   "cell_type": "code",
   "execution_count": 36,
   "metadata": {},
   "outputs": [
    {
     "name": "stderr",
     "output_type": "stream",
     "text": [
      "<ipython-input-32-7067a8f5f462>:6: SettingWithCopyWarning: \n",
      "A value is trying to be set on a copy of a slice from a DataFrame.\n",
      "Try using .loc[row_indexer,col_indexer] = value instead\n",
      "\n",
      "See the caveats in the documentation: https://pandas.pydata.org/pandas-docs/stable/user_guide/indexing.html#returning-a-view-versus-a-copy\n",
      "  df_list[0][\"Protocol\"] = \"Exclusive\"\n",
      "<ipython-input-32-7067a8f5f462>:7: SettingWithCopyWarning: \n",
      "A value is trying to be set on a copy of a slice from a DataFrame.\n",
      "Try using .loc[row_indexer,col_indexer] = value instead\n",
      "\n",
      "See the caveats in the documentation: https://pandas.pydata.org/pandas-docs/stable/user_guide/indexing.html#returning-a-view-versus-a-copy\n",
      "  df_list[1][\"Protocol\"] = \"Exclusive Opt.\"\n",
      "<ipython-input-32-7067a8f5f462>:8: SettingWithCopyWarning: \n",
      "A value is trying to be set on a copy of a slice from a DataFrame.\n",
      "Try using .loc[row_indexer,col_indexer] = value instead\n",
      "\n",
      "See the caveats in the documentation: https://pandas.pydata.org/pandas-docs/stable/user_guide/indexing.html#returning-a-view-versus-a-copy\n",
      "  df_list[2][\"Protocol\"] = \"Concurrent\"\n",
      "<ipython-input-32-7067a8f5f462>:9: SettingWithCopyWarning: \n",
      "A value is trying to be set on a copy of a slice from a DataFrame.\n",
      "Try using .loc[row_indexer,col_indexer] = value instead\n",
      "\n",
      "See the caveats in the documentation: https://pandas.pydata.org/pandas-docs/stable/user_guide/indexing.html#returning-a-view-versus-a-copy\n",
      "  df_list[3][\"Protocol\"] = \"Concurrent Opt. (10)\"\n"
     ]
    }
   ],
   "source": [
    "event_df = filter_dfs(dataframes, \"event\")\n",
    "waiting_df = filter_dfs(dataframes, \"waiting\")\n",
    "staging_df = filter_dfs(dataframes, \"staging\")\n",
    "storing_df = filter_dfs(dataframes, \"storing\")\n",
    "committing_df = filter_dfs(dataframes, \"committing\")"
   ]
  },
  {
   "cell_type": "code",
   "execution_count": 37,
   "metadata": {},
   "outputs": [],
   "source": [
    "event_df[\"Step\"] = \"Event\"\n",
    "waiting_df[\"Step\"] = \"Wait\"\n",
    "staging_df[\"Step\"] = \"Stage\"\n",
    "storing_df[\"Step\"] = \"Store\"\n",
    "committing_df[\"Step\"] = \"Commit\""
   ]
  },
  {
   "cell_type": "code",
   "execution_count": 51,
   "metadata": {},
   "outputs": [],
   "source": [
    "df = pd.concat([event_df, waiting_df, staging_df, storing_df, committing_df])\n",
    "step_df = pd.concat([waiting_df,staging_df, storing_df, committing_df])"
   ]
  },
  {
   "cell_type": "code",
   "execution_count": 39,
   "metadata": {},
   "outputs": [
    {
     "data": {
      "text/html": [
       "<div>\n",
       "<style scoped>\n",
       "    .dataframe tbody tr th:only-of-type {\n",
       "        vertical-align: middle;\n",
       "    }\n",
       "\n",
       "    .dataframe tbody tr th {\n",
       "        vertical-align: top;\n",
       "    }\n",
       "\n",
       "    .dataframe thead th {\n",
       "        text-align: right;\n",
       "    }\n",
       "</style>\n",
       "<table border=\"1\" class=\"dataframe\">\n",
       "  <thead>\n",
       "    <tr style=\"text-align: right;\">\n",
       "      <th></th>\n",
       "      <th>index</th>\n",
       "      <th>Latency in us</th>\n",
       "      <th>Message Size in Bytes</th>\n",
       "      <th># of Segments</th>\n",
       "      <th>Rate Limit in MB/s</th>\n",
       "      <th>Protocol</th>\n",
       "      <th>Step</th>\n",
       "    </tr>\n",
       "  </thead>\n",
       "  <tbody>\n",
       "    <tr>\n",
       "      <th>0</th>\n",
       "      <td>0</td>\n",
       "      <td>129</td>\n",
       "      <td>524288</td>\n",
       "      <td>90</td>\n",
       "      <td>7400</td>\n",
       "      <td>Exclusive</td>\n",
       "      <td>Event</td>\n",
       "    </tr>\n",
       "    <tr>\n",
       "      <th>1</th>\n",
       "      <td>1</td>\n",
       "      <td>105</td>\n",
       "      <td>524288</td>\n",
       "      <td>90</td>\n",
       "      <td>7400</td>\n",
       "      <td>Exclusive</td>\n",
       "      <td>Event</td>\n",
       "    </tr>\n",
       "    <tr>\n",
       "      <th>2</th>\n",
       "      <td>2</td>\n",
       "      <td>150</td>\n",
       "      <td>524288</td>\n",
       "      <td>90</td>\n",
       "      <td>7400</td>\n",
       "      <td>Exclusive</td>\n",
       "      <td>Event</td>\n",
       "    </tr>\n",
       "    <tr>\n",
       "      <th>3</th>\n",
       "      <td>3</td>\n",
       "      <td>209</td>\n",
       "      <td>524288</td>\n",
       "      <td>90</td>\n",
       "      <td>7400</td>\n",
       "      <td>Exclusive</td>\n",
       "      <td>Event</td>\n",
       "    </tr>\n",
       "    <tr>\n",
       "      <th>4</th>\n",
       "      <td>4</td>\n",
       "      <td>213</td>\n",
       "      <td>524288</td>\n",
       "      <td>90</td>\n",
       "      <td>7400</td>\n",
       "      <td>Exclusive</td>\n",
       "      <td>Event</td>\n",
       "    </tr>\n",
       "  </tbody>\n",
       "</table>\n",
       "</div>"
      ],
      "text/plain": [
       "   index  Latency in us  Message Size in Bytes  # of Segments  \\\n",
       "0      0            129                 524288             90   \n",
       "1      1            105                 524288             90   \n",
       "2      2            150                 524288             90   \n",
       "3      3            209                 524288             90   \n",
       "4      4            213                 524288             90   \n",
       "\n",
       "   Rate Limit in MB/s   Protocol   Step  \n",
       "0                7400  Exclusive  Event  \n",
       "1                7400  Exclusive  Event  \n",
       "2                7400  Exclusive  Event  \n",
       "3                7400  Exclusive  Event  \n",
       "4                7400  Exclusive  Event  "
      ]
     },
     "execution_count": 39,
     "metadata": {},
     "output_type": "execute_result"
    }
   ],
   "source": [
    "df.head()"
   ]
  },
  {
   "cell_type": "code",
   "execution_count": 86,
   "metadata": {},
   "outputs": [
    {
     "data": {
      "text/html": [
       "<div>\n",
       "<style scoped>\n",
       "    .dataframe tbody tr th:only-of-type {\n",
       "        vertical-align: middle;\n",
       "    }\n",
       "\n",
       "    .dataframe tbody tr th {\n",
       "        vertical-align: top;\n",
       "    }\n",
       "\n",
       "    .dataframe thead th {\n",
       "        text-align: right;\n",
       "    }\n",
       "</style>\n",
       "<table border=\"1\" class=\"dataframe\">\n",
       "  <thead>\n",
       "    <tr style=\"text-align: right;\">\n",
       "      <th></th>\n",
       "      <th>index</th>\n",
       "      <th>Number of Messages</th>\n",
       "      <th>Throughput in MB/s</th>\n",
       "      <th>Message Size in Bytes</th>\n",
       "      <th># of Segments</th>\n",
       "      <th>Rate Limit in MB/s</th>\n",
       "      <th>Protocol</th>\n",
       "    </tr>\n",
       "  </thead>\n",
       "  <tbody>\n",
       "    <tr>\n",
       "      <th>0</th>\n",
       "      <td>0</td>\n",
       "      <td>14181</td>\n",
       "      <td>7434.928</td>\n",
       "      <td>524288</td>\n",
       "      <td>90</td>\n",
       "      <td>7400</td>\n",
       "      <td>Exclusive</td>\n",
       "    </tr>\n",
       "    <tr>\n",
       "      <th>1</th>\n",
       "      <td>1</td>\n",
       "      <td>14388</td>\n",
       "      <td>7543.456</td>\n",
       "      <td>524288</td>\n",
       "      <td>90</td>\n",
       "      <td>7400</td>\n",
       "      <td>Exclusive</td>\n",
       "    </tr>\n",
       "    <tr>\n",
       "      <th>2</th>\n",
       "      <td>2</td>\n",
       "      <td>14273</td>\n",
       "      <td>7483.163</td>\n",
       "      <td>524288</td>\n",
       "      <td>90</td>\n",
       "      <td>7400</td>\n",
       "      <td>Exclusive</td>\n",
       "    </tr>\n",
       "    <tr>\n",
       "      <th>3</th>\n",
       "      <td>3</td>\n",
       "      <td>14267</td>\n",
       "      <td>7480.017</td>\n",
       "      <td>524288</td>\n",
       "      <td>90</td>\n",
       "      <td>7400</td>\n",
       "      <td>Exclusive</td>\n",
       "    </tr>\n",
       "    <tr>\n",
       "      <th>4</th>\n",
       "      <td>4</td>\n",
       "      <td>14298</td>\n",
       "      <td>7496.270</td>\n",
       "      <td>524288</td>\n",
       "      <td>90</td>\n",
       "      <td>7400</td>\n",
       "      <td>Exclusive</td>\n",
       "    </tr>\n",
       "  </tbody>\n",
       "</table>\n",
       "</div>"
      ],
      "text/plain": [
       "   index  Number of Messages  Throughput in MB/s  Message Size in Bytes  \\\n",
       "0      0               14181            7434.928                 524288   \n",
       "1      1               14388            7543.456                 524288   \n",
       "2      2               14273            7483.163                 524288   \n",
       "3      3               14267            7480.017                 524288   \n",
       "4      4               14298            7496.270                 524288   \n",
       "\n",
       "   # of Segments  Rate Limit in MB/s   Protocol  \n",
       "0             90                7400  Exclusive  \n",
       "1             90                7400  Exclusive  \n",
       "2             90                7400  Exclusive  \n",
       "3             90                7400  Exclusive  \n",
       "4             90                7400  Exclusive  "
      ]
     },
     "execution_count": 86,
     "metadata": {},
     "output_type": "execute_result"
    }
   ],
   "source": [
    "tp_df.head()"
   ]
  },
  {
   "cell_type": "code",
   "execution_count": 108,
   "metadata": {},
   "outputs": [
    {
     "data": {
      "text/html": [
       "<div>\n",
       "<style scoped>\n",
       "    .dataframe tbody tr th:only-of-type {\n",
       "        vertical-align: middle;\n",
       "    }\n",
       "\n",
       "    .dataframe tbody tr th {\n",
       "        vertical-align: top;\n",
       "    }\n",
       "\n",
       "    .dataframe thead th {\n",
       "        text-align: right;\n",
       "    }\n",
       "</style>\n",
       "<table border=\"1\" class=\"dataframe\">\n",
       "  <thead>\n",
       "    <tr style=\"text-align: right;\">\n",
       "      <th></th>\n",
       "      <th>index</th>\n",
       "      <th>Number of Messages</th>\n",
       "      <th>Throughput in MB/s</th>\n",
       "      <th>Message Size in Bytes</th>\n",
       "      <th># of Segments</th>\n",
       "      <th>Rate Limit in MB/s</th>\n",
       "    </tr>\n",
       "    <tr>\n",
       "      <th>Protocol</th>\n",
       "      <th></th>\n",
       "      <th></th>\n",
       "      <th></th>\n",
       "      <th></th>\n",
       "      <th></th>\n",
       "      <th></th>\n",
       "    </tr>\n",
       "  </thead>\n",
       "  <tbody>\n",
       "    <tr>\n",
       "      <th>Concurrent</th>\n",
       "      <td>7.5</td>\n",
       "      <td>10205.500000</td>\n",
       "      <td>5350.621188</td>\n",
       "      <td>524288.0</td>\n",
       "      <td>90.0</td>\n",
       "      <td>5300.0</td>\n",
       "    </tr>\n",
       "    <tr>\n",
       "      <th>Concurrent Opt. (10)</th>\n",
       "      <td>7.0</td>\n",
       "      <td>10754.866667</td>\n",
       "      <td>5638.647667</td>\n",
       "      <td>524288.0</td>\n",
       "      <td>90.0</td>\n",
       "      <td>5600.0</td>\n",
       "    </tr>\n",
       "    <tr>\n",
       "      <th>Exclusive</th>\n",
       "      <td>5.0</td>\n",
       "      <td>14279.636364</td>\n",
       "      <td>7486.642091</td>\n",
       "      <td>524288.0</td>\n",
       "      <td>90.0</td>\n",
       "      <td>7400.0</td>\n",
       "    </tr>\n",
       "    <tr>\n",
       "      <th>Exclusive Opt.</th>\n",
       "      <td>5.0</td>\n",
       "      <td>14894.545455</td>\n",
       "      <td>7809.031364</td>\n",
       "      <td>524288.0</td>\n",
       "      <td>90.0</td>\n",
       "      <td>7900.0</td>\n",
       "    </tr>\n",
       "  </tbody>\n",
       "</table>\n",
       "</div>"
      ],
      "text/plain": [
       "                      index  Number of Messages  Throughput in MB/s  \\\n",
       "Protocol                                                              \n",
       "Concurrent              7.5        10205.500000         5350.621188   \n",
       "Concurrent Opt. (10)    7.0        10754.866667         5638.647667   \n",
       "Exclusive               5.0        14279.636364         7486.642091   \n",
       "Exclusive Opt.          5.0        14894.545455         7809.031364   \n",
       "\n",
       "                      Message Size in Bytes  # of Segments  Rate Limit in MB/s  \n",
       "Protocol                                                                        \n",
       "Concurrent                         524288.0           90.0              5300.0  \n",
       "Concurrent Opt. (10)               524288.0           90.0              5600.0  \n",
       "Exclusive                          524288.0           90.0              7400.0  \n",
       "Exclusive Opt.                     524288.0           90.0              7900.0  "
      ]
     },
     "execution_count": 108,
     "metadata": {},
     "output_type": "execute_result"
    }
   ],
   "source": [
    "tp_df.groupby(\"Protocol\").mean()"
   ]
  },
  {
   "cell_type": "code",
   "execution_count": 94,
   "metadata": {},
   "outputs": [
    {
     "data": {
      "text/plain": [
       "<Figure size 432x288 with 0 Axes>"
      ]
     },
     "metadata": {},
     "output_type": "display_data"
    },
    {
     "data": {
      "image/png": "[encoded data removed]",
      "text/plain": [
       "<Figure size 480x360 with 1 Axes>"
      ]
     },
     "metadata": {},
     "output_type": "display_data"
    }
   ],
   "source": [
    "sns.set_context('paper')\n",
    "sns.set_style('whitegrid', {'grid.linestyle': 'dotted'})\n",
    "sns.despine(left=True)\n",
    "g = sns.catplot(x=\"Protocol\", y=\"Throughput in MB/s\", hue=\"Protocol\", data=tp_df, ci=\"sd\", kind=\"bar\",aspect=4./3, legend_out=False)\n",
    "g.savefig(\"producer_breakdown_sust_tp.png\")\n",
    "# g.set(yscale=\"log\")"
   ]
  },
  {
   "cell_type": "code",
   "execution_count": 103,
   "metadata": {},
   "outputs": [
    {
     "data": {
      "text/plain": [
       "<Figure size 432x288 with 0 Axes>"
      ]
     },
     "metadata": {},
     "output_type": "display_data"
    },
    {
     "data": {
      "image/png": "[encoded data removed]",
      "text/plain": [
       "<Figure size 480x360 with 1 Axes>"
      ]
     },
     "metadata": {},
     "output_type": "display_data"
    }
   ],
   "source": [
    "sns.set_context('paper')\n",
    "sns.set_style('whitegrid', {'grid.linestyle': 'dotted'})\n",
    "sns.despine(left=True)\n",
    "g = sns.catplot(x=\"Step\", y=\"Latency in us\", hue=\"Protocol\", data=step_df, ci=\"sd\", kind=\"bar\",aspect=4./3, legend_out=False)\n",
    "g.set(yscale=\"log\")\n",
    "g.savefig(\"producer_breakdown_100.png\")"
   ]
  },
  {
   "cell_type": "markdown",
   "metadata": {},
   "source": [
    "# Load factors"
   ]
  },
  {
   "cell_type": "code",
   "execution_count": 56,
   "metadata": {},
   "outputs": [],
   "source": [
    "dataframes_75 = producer_dfs(log_directory + \"20200727/breakdown/75/\")"
   ]
  },
  {
   "cell_type": "code",
   "execution_count": 57,
   "metadata": {},
   "outputs": [],
   "source": [
    "dataframes_50 = producer_dfs(log_directory + \"20200727/breakdown/50/\")"
   ]
  },
  {
   "cell_type": "code",
   "execution_count": 59,
   "metadata": {},
   "outputs": [],
   "source": [
    "def prepare_dfs(dataframes, measure):\n",
    "    df_list = [dataframes[\"exclusive\"][measure],\n",
    "               dataframes[\"exclusive_opt\"][measure],\n",
    "               dataframes[\"concurrent\"][measure],\n",
    "               dataframes[\"concurrent_opt/10\"][measure]]\n",
    "    df_list[0][\"Protocol\"] = \"Exclusive\"\n",
    "    df_list[1][\"Protocol\"] = \"Exclusive Opt.\"\n",
    "    df_list[2][\"Protocol\"] = \"Concurrent\"\n",
    "    df_list[3][\"Protocol\"] = \"Concurrent Opt. (10)\"\n",
    "    return pd.concat(df_list)"
   ]
  },
  {
   "cell_type": "code",
   "execution_count": 75,
   "metadata": {},
   "outputs": [],
   "source": [
    "def prepare_breakdown(dataframes):\n",
    "    waiting_df = prepare_dfs(dataframes, \"waiting\")\n",
    "    staging_df = prepare_dfs(dataframes, \"staging\")\n",
    "    storing_df = prepare_dfs(dataframes, \"storing\")\n",
    "    committing_df = prepare_dfs(dataframes, \"committing\")\n",
    "    waiting_df[\"Step\"] = \"Wait\"\n",
    "    staging_df[\"Step\"] = \"Stage\"\n",
    "    storing_df[\"Step\"] = \"Store\"\n",
    "    committing_df[\"Step\"] = \"Commit\"\n",
    "    return pd.concat([waiting_df, staging_df, storing_df, committing_df])"
   ]
  },
  {
   "cell_type": "code",
   "execution_count": 76,
   "metadata": {},
   "outputs": [],
   "source": [
    "step_df_75 = prepare_breakdown(dataframes_75)"
   ]
  },
  {
   "cell_type": "code",
   "execution_count": 107,
   "metadata": {},
   "outputs": [
    {
     "data": {
      "text/plain": [
       "<Figure size 432x288 with 0 Axes>"
      ]
     },
     "metadata": {},
     "output_type": "display_data"
    },
    {
     "data": {
      "image/png": "[encoded data removed]",
      "text/plain": [
       "<Figure size 480x360 with 1 Axes>"
      ]
     },
     "metadata": {},
     "output_type": "display_data"
    }
   ],
   "source": [
    "sns.set_context('paper')\n",
    "sns.set_style('whitegrid', {'grid.linestyle': 'dotted'})\n",
    "sns.despine(left=True)\n",
    "g = sns.catplot(x=\"Step\", y=\"Latency in us\", hue=\"Protocol\", data=step_df_75, ci=\"sd\", kind=\"bar\",aspect=4./3, legend_out=False)\n",
    "# g.set(yscale=\"log\")\n",
    "g.set(ylim=(0, 120))\n",
    "g.savefig(\"producer_breakdown_75.png\")"
   ]
  },
  {
   "cell_type": "code",
   "execution_count": 106,
   "metadata": {},
   "outputs": [
    {
     "data": {
      "text/plain": [
       "<Figure size 432x288 with 0 Axes>"
      ]
     },
     "metadata": {},
     "output_type": "display_data"
    },
    {
     "data": {
      "image/png": "[encoded data removed]",
      "text/plain": [
       "<Figure size 480x360 with 1 Axes>"
      ]
     },
     "metadata": {},
     "output_type": "display_data"
    }
   ],
   "source": [
    "step_df_50 = prepare_breakdown(dataframes_50)\n",
    "sns.set_context('paper')\n",
    "sns.set_style('whitegrid', {'grid.linestyle': 'dotted'})\n",
    "sns.despine(left=True)\n",
    "g = sns.catplot(x=\"Step\", y=\"Latency in us\", hue=\"Protocol\", data=step_df_50, ci=\"sd\", kind=\"bar\",aspect=4./3, legend_out=False)\n",
    "# g.set(yscale=\"log\")\n",
    "g.set(ylim=(0, 120))\n",
    "g.savefig(\"producer_breakdown_50.png\")"
   ]
  }
 ],
 "metadata": {
  "kernelspec": {
   "display_name": "rembrandt",
   "language": "python",
   "name": "rembrandt"
  },
  "language_info": {
   "codemirror_mode": {
    "name": "ipython",
    "version": 3
   },
   "file_extension": ".py",
   "mimetype": "text/x-python",
   "name": "python",
   "nbconvert_exporter": "python",
   "pygments_lexer": "ipython3",
   "version": "3.8.1"
  }
 },
 "nbformat": 4,
 "nbformat_minor": 4
}
